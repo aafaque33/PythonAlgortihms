{
 "cells": [
  {
   "cell_type": "markdown",
   "metadata": {},
   "source": [
    "# Recursion Algorithms\n",
    "\n",
    "## Problem 1\n",
    "**N! ( Factorial of  n )**"
   ]
  },
  {
   "cell_type": "code",
   "execution_count": 5,
   "metadata": {
    "collapsed": true
   },
   "outputs": [],
   "source": [
    "def nfactorial(n):\n",
    "    if(n==0):\n",
    "        return 1\n",
    "    \n",
    "    # if n not equal zero call funtion again for n-1 as n! = n * (n-1)!\n",
    "    fac = n * nfactorial(n-1)\n",
    "    \n",
    "    return(fac)"
   ]
  },
  {
   "cell_type": "code",
   "execution_count": 6,
   "metadata": {
    "collapsed": false
   },
   "outputs": [
    {
     "data": {
      "text/plain": [
       "120"
      ]
     },
     "execution_count": 6,
     "metadata": {},
     "output_type": "execute_result"
    }
   ],
   "source": [
    "nfactorial(5)"
   ]
  },
  {
   "cell_type": "markdown",
   "metadata": {},
   "source": [
    "## Problem 2\n",
    "Write a recursive function which takes an integer and computes the cumulative sum of 0 to that integer\n",
    "\n",
    "For example, if n=4 , return 4+3+2+1+0, which is 10."
   ]
  },
  {
   "cell_type": "code",
   "execution_count": 11,
   "metadata": {
    "collapsed": true
   },
   "outputs": [],
   "source": [
    "def rec_sum(n):\n",
    "    if(n==1):\n",
    "        return 1\n",
    "    \n",
    "    # If n == 1 return else sum = n + sum(n-1)\n",
    "    sum = n + rec_sum(n-1)\n",
    "    \n",
    "    return(sum)"
   ]
  },
  {
   "cell_type": "code",
   "execution_count": 12,
   "metadata": {
    "collapsed": false
   },
   "outputs": [
    {
     "data": {
      "text/plain": [
       "55"
      ]
     },
     "execution_count": 12,
     "metadata": {},
     "output_type": "execute_result"
    }
   ],
   "source": [
    "rec_sum(10)"
   ]
  },
  {
   "cell_type": "markdown",
   "metadata": {},
   "source": [
    "## Problem 3\n",
    "Given an integer, create a function which returns the sum of all the individual digits in that integer. For example: if n = 4321, return 4+3+2+1"
   ]
  },
  {
   "cell_type": "code",
   "execution_count": 15,
   "metadata": {
    "collapsed": true
   },
   "outputs": [],
   "source": [
    "def sum_ind_digits(n):\n",
    "    \n",
    "    # return n If only n is 1 digit left as e.g 1 % 10 or 9%10 is always 1 and 9 respectively\n",
    "    if((n % 10) == n):\n",
    "        return n\n",
    "    \n",
    "    # sum the single digit with recursing passing rest digit in functions again\n",
    "    # 4321 % 10 = 1  and 4321 / 10 = 432\n",
    "    sum = ( n % 10 ) + sum_ind_digits(n//10)\n",
    "    \n",
    "    return(sum)"
   ]
  },
  {
   "cell_type": "code",
   "execution_count": 17,
   "metadata": {
    "collapsed": false
   },
   "outputs": [
    {
     "data": {
      "text/plain": [
       "15"
      ]
     },
     "execution_count": 17,
     "metadata": {},
     "output_type": "execute_result"
    }
   ],
   "source": [
    "sum_ind_digits(54321)"
   ]
  },
  {
   "cell_type": "markdown",
   "metadata": {},
   "source": [
    "## Problem 4\n",
    "Create a function called word_split() which takes in a string phrase and a set list_of_words. The function will then determine if it is possible to split the string in a way in which words can be made from the list of words. You can assume the phrase will only contain words found in the dictionary if it is completely splittable.\n",
    "\n",
    "**Input: **\n",
    "word_split('ilovedogsJohn',['i','am','a','dogs','lover','love','John'])\n",
    "\n",
    "**Output: **\n",
    "['i', 'love', 'dogs', 'John']"
   ]
  },
  {
   "cell_type": "code",
   "execution_count": 47,
   "metadata": {
    "collapsed": true
   },
   "outputs": [],
   "source": [
    "# Check if the phrase can be splitted into list of words provided using recursion\n",
    "\n",
    "def word_split(phrase,list_of_words,splitstring=[]):\n",
    "    \n",
    "    if len(phrase) == 0:\n",
    "        return splitstring\n",
    "    \n",
    "    for words in list_of_words:\n",
    "        \n",
    "        if (phrase.find(words,0,len(words)) != -1):\n",
    "            splitstring.append(words)\n",
    "            word_split(phrase[len(words):],list_of_words,splitstring)\n",
    "            \n",
    "    return splitstring"
   ]
  },
  {
   "cell_type": "code",
   "execution_count": 48,
   "metadata": {
    "collapsed": false
   },
   "outputs": [],
   "source": [
    "splitstr = word_split('ilovedogsJohn',['i','am','a','dogs','lover','love','John'])"
   ]
  },
  {
   "cell_type": "code",
   "execution_count": 49,
   "metadata": {
    "collapsed": false
   },
   "outputs": [
    {
     "name": "stdout",
     "output_type": "stream",
     "text": [
      "['i', 'love', 'dogs', 'John']\n"
     ]
    }
   ],
   "source": [
    "print(splitstr)"
   ]
  }
 ],
 "metadata": {
  "anaconda-cloud": {},
  "kernelspec": {
   "display_name": "Python [Root]",
   "language": "python",
   "name": "Python [Root]"
  },
  "language_info": {
   "codemirror_mode": {
    "name": "ipython",
    "version": 3
   },
   "file_extension": ".py",
   "mimetype": "text/x-python",
   "name": "python",
   "nbconvert_exporter": "python",
   "pygments_lexer": "ipython3",
   "version": "3.5.1"
  }
 },
 "nbformat": 4,
 "nbformat_minor": 0
}
